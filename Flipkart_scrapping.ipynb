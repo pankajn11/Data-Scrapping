{
  "cells": [
    {
      "cell_type": "code",
      "execution_count": 249,
      "metadata": {
        "id": "ASAdsv0sF1dL"
      },
      "outputs": [],
      "source": [
        "import pandas as pd\n",
        "import requests\n",
        "from bs4 import BeautifulSoup\n",
        "import re\n",
        "import pickle\n",
        "import numpy as np\n",
        "import seaborn as sn\n",
        "import matplotlib.pyplot as plt\n",
        "import re\n",
        "import warnings\n",
        "warnings.filterwarnings(\"ignore\")\n",
        "from prettytable import PrettyTable"
      ]
    },
    {
      "cell_type": "code",
      "execution_count": 173,
      "metadata": {
        "id": "ZnDU4K5ZIG5Q"
      },
      "outputs": [],
      "source": [
        "def get(soup):\n",
        "  name=[]\n",
        "  prices=[]\n",
        "  ratings=[]\n",
        "  products_on_page=soup.find_all('a',href=True,attrs={'class':\"_1fQZEK\"})\n",
        "  for p in products_on_page:\n",
        "    na=p.find('div',attrs={'class':\"_4rR01T\"})\n",
        "    pr=p.find('div',attrs={'class':\"_30jeq3 _1_WHN1\"})\n",
        "    ra=p.find('div',attrs={'class':\"_3LWZlK\"})    \n",
        "    #------------------------------------------------\n",
        "    if type(na)==type(None):\n",
        "      name.append(None)\n",
        "    else:\n",
        "      name.append(na.text)\n",
        "    #-------------------------------------------------\n",
        "    if type(pr)==type(None):\n",
        "      prices.append(None)\n",
        "    else:\n",
        "      prices.append(int(re.sub(r\"\\W+|_\", \"\",pr.text)))\n",
        "    #--------------------------------------------------\n",
        "    if type(ra)==type(None):\n",
        "      ratings.append(None)\n",
        "    else:\n",
        "      ratings.append(float(ra.text))\n",
        "  \n",
        "  return name,prices,ratings"
      ]
    },
    {
      "cell_type": "code",
      "execution_count": 174,
      "metadata": {
        "id": "WaleMFZtGKJ2"
      },
      "outputs": [],
      "source": [
        "url='https://www.flipkart.com/search?q=laptops&otracker=search&otracker1=search&marketplace=FLIPKART&as-show=on&as=off&page='"
      ]
    },
    {
      "cell_type": "code",
      "execution_count": 175,
      "metadata": {
        "id": "JT4pnhXcGebD"
      },
      "outputs": [],
      "source": [
        "name=[]\n",
        "prices=[]\n",
        "ratings=[]\n",
        "for i in range(1,40):\n",
        "  h = {\"User-Agent\": \"Mozilla/5.0 (Windows NT 10.0; Win64; x64) AppleWebKit/537.36 (KHTML, like Gecko) Chrome/100.0.4896.88 Safari/537.36\"}\n",
        "  req=requests.get(url+str(i),headers=h)\n",
        "  soup=BeautifulSoup(req.content,\"html.parser\")\n",
        "  A,B,C=get(soup)\n",
        "  name=name+A\n",
        "  prices=prices+B\n",
        "  ratings=ratings+C"
      ]
    },
    {
      "cell_type": "code",
      "execution_count": 176,
      "metadata": {
        "id": "5sEszL2JK544"
      },
      "outputs": [],
      "source": [
        "df=pd.DataFrame(data={'Name':name,'Prices':prices,'Ratings':ratings})"
      ]
    },
    {
      "cell_type": "code",
      "execution_count": 177,
      "metadata": {
        "colab": {
          "base_uri": "https://localhost:8080/",
          "height": 206
        },
        "id": "t14Rz7ysLDBb",
        "outputId": "48fcee5c-5ad8-49bb-f4c0-6273845af8b8"
      },
      "outputs": [
        {
          "output_type": "execute_result",
          "data": {
            "text/plain": [
              "                                                  Name   Prices  Ratings\n",
              "191  ASUS VivoBook Ultra 14 Core i3 10th Gen - (4 G...  41490.0      4.4\n",
              "499  ASUS VivoBook Ultra 14 Core i3 10th Gen - (4 G...  40990.0      4.4\n",
              "901  HP Pavilion Gaming Ryzen 5 Hexa Core 5600H - (...  71343.0      3.9\n",
              "736  ASUS VivoBook Ultra 17 Ryzen 5 Hexa Core - (8 ...  62790.0      4.2\n",
              "780  DELL Inspiron Core i5 11th Gen - (4 GB/1 TB HD...  58990.0      4.3"
            ],
            "text/html": [
              "\n",
              "  <div id=\"df-f1214df6-dda8-405f-a2f8-1f7eea6a4174\">\n",
              "    <div class=\"colab-df-container\">\n",
              "      <div>\n",
              "<style scoped>\n",
              "    .dataframe tbody tr th:only-of-type {\n",
              "        vertical-align: middle;\n",
              "    }\n",
              "\n",
              "    .dataframe tbody tr th {\n",
              "        vertical-align: top;\n",
              "    }\n",
              "\n",
              "    .dataframe thead th {\n",
              "        text-align: right;\n",
              "    }\n",
              "</style>\n",
              "<table border=\"1\" class=\"dataframe\">\n",
              "  <thead>\n",
              "    <tr style=\"text-align: right;\">\n",
              "      <th></th>\n",
              "      <th>Name</th>\n",
              "      <th>Prices</th>\n",
              "      <th>Ratings</th>\n",
              "    </tr>\n",
              "  </thead>\n",
              "  <tbody>\n",
              "    <tr>\n",
              "      <th>191</th>\n",
              "      <td>ASUS VivoBook Ultra 14 Core i3 10th Gen - (4 G...</td>\n",
              "      <td>41490.0</td>\n",
              "      <td>4.4</td>\n",
              "    </tr>\n",
              "    <tr>\n",
              "      <th>499</th>\n",
              "      <td>ASUS VivoBook Ultra 14 Core i3 10th Gen - (4 G...</td>\n",
              "      <td>40990.0</td>\n",
              "      <td>4.4</td>\n",
              "    </tr>\n",
              "    <tr>\n",
              "      <th>901</th>\n",
              "      <td>HP Pavilion Gaming Ryzen 5 Hexa Core 5600H - (...</td>\n",
              "      <td>71343.0</td>\n",
              "      <td>3.9</td>\n",
              "    </tr>\n",
              "    <tr>\n",
              "      <th>736</th>\n",
              "      <td>ASUS VivoBook Ultra 17 Ryzen 5 Hexa Core - (8 ...</td>\n",
              "      <td>62790.0</td>\n",
              "      <td>4.2</td>\n",
              "    </tr>\n",
              "    <tr>\n",
              "      <th>780</th>\n",
              "      <td>DELL Inspiron Core i5 11th Gen - (4 GB/1 TB HD...</td>\n",
              "      <td>58990.0</td>\n",
              "      <td>4.3</td>\n",
              "    </tr>\n",
              "  </tbody>\n",
              "</table>\n",
              "</div>\n",
              "      <button class=\"colab-df-convert\" onclick=\"convertToInteractive('df-f1214df6-dda8-405f-a2f8-1f7eea6a4174')\"\n",
              "              title=\"Convert this dataframe to an interactive table.\"\n",
              "              style=\"display:none;\">\n",
              "        \n",
              "  <svg xmlns=\"http://www.w3.org/2000/svg\" height=\"24px\"viewBox=\"0 0 24 24\"\n",
              "       width=\"24px\">\n",
              "    <path d=\"M0 0h24v24H0V0z\" fill=\"none\"/>\n",
              "    <path d=\"M18.56 5.44l.94 2.06.94-2.06 2.06-.94-2.06-.94-.94-2.06-.94 2.06-2.06.94zm-11 1L8.5 8.5l.94-2.06 2.06-.94-2.06-.94L8.5 2.5l-.94 2.06-2.06.94zm10 10l.94 2.06.94-2.06 2.06-.94-2.06-.94-.94-2.06-.94 2.06-2.06.94z\"/><path d=\"M17.41 7.96l-1.37-1.37c-.4-.4-.92-.59-1.43-.59-.52 0-1.04.2-1.43.59L10.3 9.45l-7.72 7.72c-.78.78-.78 2.05 0 2.83L4 21.41c.39.39.9.59 1.41.59.51 0 1.02-.2 1.41-.59l7.78-7.78 2.81-2.81c.8-.78.8-2.07 0-2.86zM5.41 20L4 18.59l7.72-7.72 1.47 1.35L5.41 20z\"/>\n",
              "  </svg>\n",
              "      </button>\n",
              "      \n",
              "  <style>\n",
              "    .colab-df-container {\n",
              "      display:flex;\n",
              "      flex-wrap:wrap;\n",
              "      gap: 12px;\n",
              "    }\n",
              "\n",
              "    .colab-df-convert {\n",
              "      background-color: #E8F0FE;\n",
              "      border: none;\n",
              "      border-radius: 50%;\n",
              "      cursor: pointer;\n",
              "      display: none;\n",
              "      fill: #1967D2;\n",
              "      height: 32px;\n",
              "      padding: 0 0 0 0;\n",
              "      width: 32px;\n",
              "    }\n",
              "\n",
              "    .colab-df-convert:hover {\n",
              "      background-color: #E2EBFA;\n",
              "      box-shadow: 0px 1px 2px rgba(60, 64, 67, 0.3), 0px 1px 3px 1px rgba(60, 64, 67, 0.15);\n",
              "      fill: #174EA6;\n",
              "    }\n",
              "\n",
              "    [theme=dark] .colab-df-convert {\n",
              "      background-color: #3B4455;\n",
              "      fill: #D2E3FC;\n",
              "    }\n",
              "\n",
              "    [theme=dark] .colab-df-convert:hover {\n",
              "      background-color: #434B5C;\n",
              "      box-shadow: 0px 1px 3px 1px rgba(0, 0, 0, 0.15);\n",
              "      filter: drop-shadow(0px 1px 2px rgba(0, 0, 0, 0.3));\n",
              "      fill: #FFFFFF;\n",
              "    }\n",
              "  </style>\n",
              "\n",
              "      <script>\n",
              "        const buttonEl =\n",
              "          document.querySelector('#df-f1214df6-dda8-405f-a2f8-1f7eea6a4174 button.colab-df-convert');\n",
              "        buttonEl.style.display =\n",
              "          google.colab.kernel.accessAllowed ? 'block' : 'none';\n",
              "\n",
              "        async function convertToInteractive(key) {\n",
              "          const element = document.querySelector('#df-f1214df6-dda8-405f-a2f8-1f7eea6a4174');\n",
              "          const dataTable =\n",
              "            await google.colab.kernel.invokeFunction('convertToInteractive',\n",
              "                                                     [key], {});\n",
              "          if (!dataTable) return;\n",
              "\n",
              "          const docLinkHtml = 'Like what you see? Visit the ' +\n",
              "            '<a target=\"_blank\" href=https://colab.research.google.com/notebooks/data_table.ipynb>data table notebook</a>'\n",
              "            + ' to learn more about interactive tables.';\n",
              "          element.innerHTML = '';\n",
              "          dataTable['output_type'] = 'display_data';\n",
              "          await google.colab.output.renderOutput(dataTable, element);\n",
              "          const docLink = document.createElement('div');\n",
              "          docLink.innerHTML = docLinkHtml;\n",
              "          element.appendChild(docLink);\n",
              "        }\n",
              "      </script>\n",
              "    </div>\n",
              "  </div>\n",
              "  "
            ]
          },
          "metadata": {},
          "execution_count": 177
        }
      ],
      "source": [
        "df.sample(5)"
      ]
    },
    {
      "cell_type": "code",
      "execution_count": 178,
      "metadata": {
        "colab": {
          "base_uri": "https://localhost:8080/"
        },
        "id": "KdooynmCF9Q2",
        "outputId": "7ce832e5-e650-4977-99ae-0a9fc8d66f1d"
      },
      "outputs": [
        {
          "output_type": "execute_result",
          "data": {
            "text/plain": [
              "(912, 3)"
            ]
          },
          "metadata": {},
          "execution_count": 178
        }
      ],
      "source": [
        "df.shape"
      ]
    },
    {
      "cell_type": "markdown",
      "source": [
        "# Deduplication of data"
      ],
      "metadata": {
        "id": "xyVgdWNTJiD6"
      }
    },
    {
      "cell_type": "code",
      "execution_count": 179,
      "metadata": {
        "colab": {
          "base_uri": "https://localhost:8080/"
        },
        "id": "HWp71uZFehOf",
        "outputId": "e99e06c7-46e0-4ca1-9c73-a398a6845b7d"
      },
      "outputs": [
        {
          "output_type": "stream",
          "name": "stdout",
          "text": [
            "232\n",
            "Around 25 % of rows are duplicate\n"
          ]
        }
      ],
      "source": [
        "#Duplicate Rows\n",
        "print(df.duplicated().sum())\n",
        "print(\"Around {} % of rows are duplicate\".format(round((df.duplicated().sum()/df.shape[0])*100)))\n",
        "df.drop_duplicates(inplace=True)"
      ]
    },
    {
      "cell_type": "code",
      "execution_count": 180,
      "metadata": {
        "colab": {
          "base_uri": "https://localhost:8080/"
        },
        "id": "4NobDotPhTnz",
        "outputId": "1f56870d-022a-4405-e837-43a328ddec1d"
      },
      "outputs": [
        {
          "output_type": "stream",
          "name": "stdout",
          "text": [
            "--------------------\n",
            "Around 32 % of rows have ratings are Null\n",
            "\n"
          ]
        }
      ],
      "source": [
        "#Null Values\n",
        "df.isnull().sum()\n",
        "print(\"-\"*20)\n",
        "print(\"Around {} % of rows have ratings are Null\".format(round((df[\"Ratings\"].isnull().sum()/df.shape[0])*100)))\n",
        "print()\n",
        "df[\"Ratings\"]=df.Ratings.fillna(df.Ratings.median())"
      ]
    },
    {
      "cell_type": "code",
      "execution_count": 181,
      "metadata": {
        "id": "7ZZ9lYYMi-DC"
      },
      "outputs": [],
      "source": [
        "# Droping row where price is Null\n",
        "df.dropna(inplace=True)"
      ]
    },
    {
      "cell_type": "markdown",
      "source": [
        "# Adding some extra features/columns"
      ],
      "metadata": {
        "id": "N5yzYIQxJ-Fi"
      }
    },
    {
      "cell_type": "code",
      "execution_count": 182,
      "metadata": {
        "id": "ZEMzSU-Bu7Lw"
      },
      "outputs": [],
      "source": [
        "# adding 'Brand' column\n",
        "\n",
        "brand=[i.split(\" \")[0].lower() for i in df.Name.values]\n",
        "#print(brand)\n",
        "df[\"Brand\"]=brand"
      ]
    },
    {
      "cell_type": "code",
      "source": [
        "# adding processor feature\n",
        "def get_processor(string):\n",
        "\n",
        "  val=re.search(r\"i\\d\",string)\n",
        "  if val !=None:\n",
        "    return val.group()\n",
        "  else:\n",
        "    return \"other_processor\"\n",
        "#-------------------------------------------\n",
        "df[\"processor\"]=df.Name.apply(get_processor)"
      ],
      "metadata": {
        "id": "5AIsw8EoKI9y"
      },
      "execution_count": 183,
      "outputs": []
    },
    {
      "cell_type": "code",
      "source": [
        "re.search(r\"\\d\\sGB\",df.Name.values[0]).group()"
      ],
      "metadata": {
        "colab": {
          "base_uri": "https://localhost:8080/",
          "height": 36
        },
        "id": "ZcdqNFo5YJXO",
        "outputId": "009f5632-7fde-41cc-f894-22ea87b5e7a2"
      },
      "execution_count": 189,
      "outputs": [
        {
          "output_type": "execute_result",
          "data": {
            "text/plain": [
              "'8 GB'"
            ],
            "application/vnd.google.colaboratory.intrinsic+json": {
              "type": "string"
            }
          },
          "metadata": {},
          "execution_count": 189
        }
      ]
    },
    {
      "cell_type": "code",
      "source": [
        "# adding Ram feature\n",
        "def get_ram(string):\n",
        "  lst=re.search(r\"\\d\\sGB\",string)\n",
        "  if lst == None:\n",
        "    return None\n",
        "  else:\n",
        "    return lst.group()\n",
        "ram=df.Name.apply(get_ram)\n",
        "df[\"ram\"]=ram"
      ],
      "metadata": {
        "id": "6b8F_N-OR5dZ"
      },
      "execution_count": 191,
      "outputs": []
    },
    {
      "cell_type": "markdown",
      "metadata": {
        "id": "rqmI5_eYjlUL"
      },
      "source": [
        "#EDA"
      ]
    },
    {
      "cell_type": "code",
      "source": [
        "df.describe()"
      ],
      "metadata": {
        "colab": {
          "base_uri": "https://localhost:8080/",
          "height": 300
        },
        "id": "olTNVyWwau3c",
        "outputId": "232883f3-811e-4383-eb96-9623317065bc"
      },
      "execution_count": 214,
      "outputs": [
        {
          "output_type": "execute_result",
          "data": {
            "text/plain": [
              "              Prices     Ratings\n",
              "count     679.000000  679.000000\n",
              "mean    75413.929308    4.278203\n",
              "std     43928.693884    0.320254\n",
              "min     13990.000000    1.700000\n",
              "25%     44490.000000    4.200000\n",
              "50%     62990.000000    4.300000\n",
              "75%     89994.000000    4.400000\n",
              "max    345390.000000    5.000000"
            ],
            "text/html": [
              "\n",
              "  <div id=\"df-484af7d2-4814-4e21-83b1-6084a7ba1d3c\">\n",
              "    <div class=\"colab-df-container\">\n",
              "      <div>\n",
              "<style scoped>\n",
              "    .dataframe tbody tr th:only-of-type {\n",
              "        vertical-align: middle;\n",
              "    }\n",
              "\n",
              "    .dataframe tbody tr th {\n",
              "        vertical-align: top;\n",
              "    }\n",
              "\n",
              "    .dataframe thead th {\n",
              "        text-align: right;\n",
              "    }\n",
              "</style>\n",
              "<table border=\"1\" class=\"dataframe\">\n",
              "  <thead>\n",
              "    <tr style=\"text-align: right;\">\n",
              "      <th></th>\n",
              "      <th>Prices</th>\n",
              "      <th>Ratings</th>\n",
              "    </tr>\n",
              "  </thead>\n",
              "  <tbody>\n",
              "    <tr>\n",
              "      <th>count</th>\n",
              "      <td>679.000000</td>\n",
              "      <td>679.000000</td>\n",
              "    </tr>\n",
              "    <tr>\n",
              "      <th>mean</th>\n",
              "      <td>75413.929308</td>\n",
              "      <td>4.278203</td>\n",
              "    </tr>\n",
              "    <tr>\n",
              "      <th>std</th>\n",
              "      <td>43928.693884</td>\n",
              "      <td>0.320254</td>\n",
              "    </tr>\n",
              "    <tr>\n",
              "      <th>min</th>\n",
              "      <td>13990.000000</td>\n",
              "      <td>1.700000</td>\n",
              "    </tr>\n",
              "    <tr>\n",
              "      <th>25%</th>\n",
              "      <td>44490.000000</td>\n",
              "      <td>4.200000</td>\n",
              "    </tr>\n",
              "    <tr>\n",
              "      <th>50%</th>\n",
              "      <td>62990.000000</td>\n",
              "      <td>4.300000</td>\n",
              "    </tr>\n",
              "    <tr>\n",
              "      <th>75%</th>\n",
              "      <td>89994.000000</td>\n",
              "      <td>4.400000</td>\n",
              "    </tr>\n",
              "    <tr>\n",
              "      <th>max</th>\n",
              "      <td>345390.000000</td>\n",
              "      <td>5.000000</td>\n",
              "    </tr>\n",
              "  </tbody>\n",
              "</table>\n",
              "</div>\n",
              "      <button class=\"colab-df-convert\" onclick=\"convertToInteractive('df-484af7d2-4814-4e21-83b1-6084a7ba1d3c')\"\n",
              "              title=\"Convert this dataframe to an interactive table.\"\n",
              "              style=\"display:none;\">\n",
              "        \n",
              "  <svg xmlns=\"http://www.w3.org/2000/svg\" height=\"24px\"viewBox=\"0 0 24 24\"\n",
              "       width=\"24px\">\n",
              "    <path d=\"M0 0h24v24H0V0z\" fill=\"none\"/>\n",
              "    <path d=\"M18.56 5.44l.94 2.06.94-2.06 2.06-.94-2.06-.94-.94-2.06-.94 2.06-2.06.94zm-11 1L8.5 8.5l.94-2.06 2.06-.94-2.06-.94L8.5 2.5l-.94 2.06-2.06.94zm10 10l.94 2.06.94-2.06 2.06-.94-2.06-.94-.94-2.06-.94 2.06-2.06.94z\"/><path d=\"M17.41 7.96l-1.37-1.37c-.4-.4-.92-.59-1.43-.59-.52 0-1.04.2-1.43.59L10.3 9.45l-7.72 7.72c-.78.78-.78 2.05 0 2.83L4 21.41c.39.39.9.59 1.41.59.51 0 1.02-.2 1.41-.59l7.78-7.78 2.81-2.81c.8-.78.8-2.07 0-2.86zM5.41 20L4 18.59l7.72-7.72 1.47 1.35L5.41 20z\"/>\n",
              "  </svg>\n",
              "      </button>\n",
              "      \n",
              "  <style>\n",
              "    .colab-df-container {\n",
              "      display:flex;\n",
              "      flex-wrap:wrap;\n",
              "      gap: 12px;\n",
              "    }\n",
              "\n",
              "    .colab-df-convert {\n",
              "      background-color: #E8F0FE;\n",
              "      border: none;\n",
              "      border-radius: 50%;\n",
              "      cursor: pointer;\n",
              "      display: none;\n",
              "      fill: #1967D2;\n",
              "      height: 32px;\n",
              "      padding: 0 0 0 0;\n",
              "      width: 32px;\n",
              "    }\n",
              "\n",
              "    .colab-df-convert:hover {\n",
              "      background-color: #E2EBFA;\n",
              "      box-shadow: 0px 1px 2px rgba(60, 64, 67, 0.3), 0px 1px 3px 1px rgba(60, 64, 67, 0.15);\n",
              "      fill: #174EA6;\n",
              "    }\n",
              "\n",
              "    [theme=dark] .colab-df-convert {\n",
              "      background-color: #3B4455;\n",
              "      fill: #D2E3FC;\n",
              "    }\n",
              "\n",
              "    [theme=dark] .colab-df-convert:hover {\n",
              "      background-color: #434B5C;\n",
              "      box-shadow: 0px 1px 3px 1px rgba(0, 0, 0, 0.15);\n",
              "      filter: drop-shadow(0px 1px 2px rgba(0, 0, 0, 0.3));\n",
              "      fill: #FFFFFF;\n",
              "    }\n",
              "  </style>\n",
              "\n",
              "      <script>\n",
              "        const buttonEl =\n",
              "          document.querySelector('#df-484af7d2-4814-4e21-83b1-6084a7ba1d3c button.colab-df-convert');\n",
              "        buttonEl.style.display =\n",
              "          google.colab.kernel.accessAllowed ? 'block' : 'none';\n",
              "\n",
              "        async function convertToInteractive(key) {\n",
              "          const element = document.querySelector('#df-484af7d2-4814-4e21-83b1-6084a7ba1d3c');\n",
              "          const dataTable =\n",
              "            await google.colab.kernel.invokeFunction('convertToInteractive',\n",
              "                                                     [key], {});\n",
              "          if (!dataTable) return;\n",
              "\n",
              "          const docLinkHtml = 'Like what you see? Visit the ' +\n",
              "            '<a target=\"_blank\" href=https://colab.research.google.com/notebooks/data_table.ipynb>data table notebook</a>'\n",
              "            + ' to learn more about interactive tables.';\n",
              "          element.innerHTML = '';\n",
              "          dataTable['output_type'] = 'display_data';\n",
              "          await google.colab.output.renderOutput(dataTable, element);\n",
              "          const docLink = document.createElement('div');\n",
              "          docLink.innerHTML = docLinkHtml;\n",
              "          element.appendChild(docLink);\n",
              "        }\n",
              "      </script>\n",
              "    </div>\n",
              "  </div>\n",
              "  "
            ]
          },
          "metadata": {},
          "execution_count": 214
        }
      ]
    },
    {
      "cell_type": "code",
      "source": [
        "#correlation\n",
        "df.corr()"
      ],
      "metadata": {
        "colab": {
          "base_uri": "https://localhost:8080/",
          "height": 112
        },
        "id": "Q1Ndu4cNavQE",
        "outputId": "897b6cd8-cb78-4dd7-d94c-6501b49e8226"
      },
      "execution_count": 215,
      "outputs": [
        {
          "output_type": "execute_result",
          "data": {
            "text/plain": [
              "           Prices   Ratings\n",
              "Prices   1.000000  0.145588\n",
              "Ratings  0.145588  1.000000"
            ],
            "text/html": [
              "\n",
              "  <div id=\"df-14895e81-18b5-4b21-b8c7-81c2a780b0c0\">\n",
              "    <div class=\"colab-df-container\">\n",
              "      <div>\n",
              "<style scoped>\n",
              "    .dataframe tbody tr th:only-of-type {\n",
              "        vertical-align: middle;\n",
              "    }\n",
              "\n",
              "    .dataframe tbody tr th {\n",
              "        vertical-align: top;\n",
              "    }\n",
              "\n",
              "    .dataframe thead th {\n",
              "        text-align: right;\n",
              "    }\n",
              "</style>\n",
              "<table border=\"1\" class=\"dataframe\">\n",
              "  <thead>\n",
              "    <tr style=\"text-align: right;\">\n",
              "      <th></th>\n",
              "      <th>Prices</th>\n",
              "      <th>Ratings</th>\n",
              "    </tr>\n",
              "  </thead>\n",
              "  <tbody>\n",
              "    <tr>\n",
              "      <th>Prices</th>\n",
              "      <td>1.000000</td>\n",
              "      <td>0.145588</td>\n",
              "    </tr>\n",
              "    <tr>\n",
              "      <th>Ratings</th>\n",
              "      <td>0.145588</td>\n",
              "      <td>1.000000</td>\n",
              "    </tr>\n",
              "  </tbody>\n",
              "</table>\n",
              "</div>\n",
              "      <button class=\"colab-df-convert\" onclick=\"convertToInteractive('df-14895e81-18b5-4b21-b8c7-81c2a780b0c0')\"\n",
              "              title=\"Convert this dataframe to an interactive table.\"\n",
              "              style=\"display:none;\">\n",
              "        \n",
              "  <svg xmlns=\"http://www.w3.org/2000/svg\" height=\"24px\"viewBox=\"0 0 24 24\"\n",
              "       width=\"24px\">\n",
              "    <path d=\"M0 0h24v24H0V0z\" fill=\"none\"/>\n",
              "    <path d=\"M18.56 5.44l.94 2.06.94-2.06 2.06-.94-2.06-.94-.94-2.06-.94 2.06-2.06.94zm-11 1L8.5 8.5l.94-2.06 2.06-.94-2.06-.94L8.5 2.5l-.94 2.06-2.06.94zm10 10l.94 2.06.94-2.06 2.06-.94-2.06-.94-.94-2.06-.94 2.06-2.06.94z\"/><path d=\"M17.41 7.96l-1.37-1.37c-.4-.4-.92-.59-1.43-.59-.52 0-1.04.2-1.43.59L10.3 9.45l-7.72 7.72c-.78.78-.78 2.05 0 2.83L4 21.41c.39.39.9.59 1.41.59.51 0 1.02-.2 1.41-.59l7.78-7.78 2.81-2.81c.8-.78.8-2.07 0-2.86zM5.41 20L4 18.59l7.72-7.72 1.47 1.35L5.41 20z\"/>\n",
              "  </svg>\n",
              "      </button>\n",
              "      \n",
              "  <style>\n",
              "    .colab-df-container {\n",
              "      display:flex;\n",
              "      flex-wrap:wrap;\n",
              "      gap: 12px;\n",
              "    }\n",
              "\n",
              "    .colab-df-convert {\n",
              "      background-color: #E8F0FE;\n",
              "      border: none;\n",
              "      border-radius: 50%;\n",
              "      cursor: pointer;\n",
              "      display: none;\n",
              "      fill: #1967D2;\n",
              "      height: 32px;\n",
              "      padding: 0 0 0 0;\n",
              "      width: 32px;\n",
              "    }\n",
              "\n",
              "    .colab-df-convert:hover {\n",
              "      background-color: #E2EBFA;\n",
              "      box-shadow: 0px 1px 2px rgba(60, 64, 67, 0.3), 0px 1px 3px 1px rgba(60, 64, 67, 0.15);\n",
              "      fill: #174EA6;\n",
              "    }\n",
              "\n",
              "    [theme=dark] .colab-df-convert {\n",
              "      background-color: #3B4455;\n",
              "      fill: #D2E3FC;\n",
              "    }\n",
              "\n",
              "    [theme=dark] .colab-df-convert:hover {\n",
              "      background-color: #434B5C;\n",
              "      box-shadow: 0px 1px 3px 1px rgba(0, 0, 0, 0.15);\n",
              "      filter: drop-shadow(0px 1px 2px rgba(0, 0, 0, 0.3));\n",
              "      fill: #FFFFFF;\n",
              "    }\n",
              "  </style>\n",
              "\n",
              "      <script>\n",
              "        const buttonEl =\n",
              "          document.querySelector('#df-14895e81-18b5-4b21-b8c7-81c2a780b0c0 button.colab-df-convert');\n",
              "        buttonEl.style.display =\n",
              "          google.colab.kernel.accessAllowed ? 'block' : 'none';\n",
              "\n",
              "        async function convertToInteractive(key) {\n",
              "          const element = document.querySelector('#df-14895e81-18b5-4b21-b8c7-81c2a780b0c0');\n",
              "          const dataTable =\n",
              "            await google.colab.kernel.invokeFunction('convertToInteractive',\n",
              "                                                     [key], {});\n",
              "          if (!dataTable) return;\n",
              "\n",
              "          const docLinkHtml = 'Like what you see? Visit the ' +\n",
              "            '<a target=\"_blank\" href=https://colab.research.google.com/notebooks/data_table.ipynb>data table notebook</a>'\n",
              "            + ' to learn more about interactive tables.';\n",
              "          element.innerHTML = '';\n",
              "          dataTable['output_type'] = 'display_data';\n",
              "          await google.colab.output.renderOutput(dataTable, element);\n",
              "          const docLink = document.createElement('div');\n",
              "          docLink.innerHTML = docLinkHtml;\n",
              "          element.appendChild(docLink);\n",
              "        }\n",
              "      </script>\n",
              "    </div>\n",
              "  </div>\n",
              "  "
            ]
          },
          "metadata": {},
          "execution_count": 215
        }
      ]
    },
    {
      "cell_type": "code",
      "execution_count": 232,
      "metadata": {
        "id": "dnpx69Dlx9GX",
        "colab": {
          "base_uri": "https://localhost:8080/",
          "height": 436
        },
        "outputId": "2e2d425c-bf41-4fae-86ac-030bde18c18c"
      },
      "outputs": [
        {
          "output_type": "display_data",
          "data": {
            "text/plain": [
              "<Figure size 576x432 with 1 Axes>"
            ],
            "image/png": "[encoded data removed]"
          },
          "metadata": {}
        }
      ],
      "source": [
        "#Price\n",
        "plt.figure(figsize=(8,6))\n",
        "sn.distplot(df.Prices,color='orange')\n",
        "plt.xticks(rotation=\"vertical\")\n",
        "plt.show()"
      ]
    },
    {
      "cell_type": "code",
      "source": [
        "#table\n",
        "table=PrettyTable([\"Percentiles, Prices\"])"
      ],
      "metadata": {
        "id": "VgjT0ShtfeA2"
      },
      "execution_count": 250,
      "outputs": []
    },
    {
      "cell_type": "code",
      "source": [
        "#Percentiles of prices\n",
        "print(\"Price Percentile :\")\n",
        "print()\n",
        "for i in range(0,100,10):\n",
        "  per=np.percentile(df.Prices.values,i)\n",
        "  print(\"{}th percentile = ₹ {} \".format(i,round(per)))\n",
        "for i in range(91,99,1):\n",
        "  per=np.percentile(df.Prices.values,i)\n",
        "  print(\"{}th percentile = ₹ {} \".format(i,round(per)))\n",
        "for i in np.arange(0.0,1.0,0.1):\n",
        "  per=np.percentile(df.Prices.values,99+i)\n",
        "  print(\"{}th percentile = ₹ {} \".format(99+i,round(per)))\n",
        "per=np.percentile(df.Prices.values,100)\n",
        "print(\"{}th percentile = ₹ {} \".format(100,round(per)))"
      ],
      "metadata": {
        "colab": {
          "base_uri": "https://localhost:8080/"
        },
        "id": "LzSFt_1NdJG8",
        "outputId": "0ab10773-34d0-491b-c633-dffdff66a236"
      },
      "execution_count": 253,
      "outputs": [
        {
          "output_type": "stream",
          "name": "stdout",
          "text": [
            "Price Percentile :\n",
            "\n",
            "0th percentile = ₹ 13990 \n",
            "10th percentile = ₹ 37101 \n",
            "20th percentile = ₹ 41990 \n",
            "30th percentile = ₹ 47990 \n",
            "40th percentile = ₹ 56418 \n",
            "50th percentile = ₹ 62990 \n",
            "60th percentile = ₹ 70997 \n",
            "70th percentile = ₹ 82996 \n",
            "80th percentile = ₹ 101396 \n",
            "90th percentile = ₹ 130982 \n",
            "91th percentile = ₹ 134990 \n",
            "92th percentile = ₹ 139990 \n",
            "93th percentile = ₹ 143605 \n",
            "94th percentile = ₹ 154990 \n",
            "95th percentile = ₹ 160221 \n",
            "96th percentile = ₹ 169750 \n",
            "97th percentile = ₹ 179990 \n",
            "98th percentile = ₹ 210598 \n",
            "99.0th percentile = ₹ 236090 \n",
            "99.1th percentile = ₹ 239480 \n",
            "99.2th percentile = ₹ 251510 \n",
            "99.3th percentile = ₹ 262352 \n",
            "99.4th percentile = ₹ 268658 \n",
            "99.5th percentile = ₹ 269717 \n",
            "99.6th percentile = ₹ 272870 \n",
            "99.7th percentile = ₹ 279650 \n",
            "99.8th percentile = ₹ 292870 \n",
            "99.9th percentile = ₹ 314609 \n",
            "100th percentile = ₹ 345390 \n"
          ]
        }
      ]
    },
    {
      "cell_type": "code",
      "execution_count": 239,
      "metadata": {
        "id": "LdFQztWlw5zo",
        "colab": {
          "base_uri": "https://localhost:8080/",
          "height": 443
        },
        "outputId": "5623eec4-0f9b-4ab8-d9ef-204650ecd0fe"
      },
      "outputs": [
        {
          "output_type": "display_data",
          "data": {
            "text/plain": [
              "<Figure size 576x432 with 1 Axes>"
            ],
            "image/png": "[encoded data removed]"
          },
          "metadata": {}
        }
      ],
      "source": [
        "#brand column\n",
        "plt.figure(figsize=(8,6))\n",
        "sn.set_theme(style=\"darkgrid\")\n",
        "ax = sn.countplot(x=\"Brand\", data=df)\n",
        "plt.xticks(rotation=\"vertical\")\n",
        "plt.show()"
      ]
    },
    {
      "cell_type": "markdown",
      "metadata": {
        "id": "5caikE07ztzi"
      },
      "source": [
        "Asus, Lenovo, hp, dell, acer. The laptops of these brands are being purchased in more numbers than that of laptops of other brands"
      ]
    },
    {
      "cell_type": "code",
      "execution_count": 238,
      "metadata": {
        "id": "yczCp5aDyjTc",
        "colab": {
          "base_uri": "https://localhost:8080/",
          "height": 443
        },
        "outputId": "136a3d73-4412-42ce-9857-7d41a83080f5"
      },
      "outputs": [
        {
          "output_type": "display_data",
          "data": {
            "text/plain": [
              "<Figure size 576x432 with 1 Axes>"
            ],
            "image/png": "[encoded data removed]"
          },
          "metadata": {}
        }
      ],
      "source": [
        "plt.figure(figsize=(8,6))\n",
        "sn.barplot(df.Brand,df.Prices)\n",
        "plt.xticks(rotation='vertical')\n",
        "plt.show()"
      ]
    },
    {
      "cell_type": "markdown",
      "metadata": {
        "id": "BBaGAadJ0YTL"
      },
      "source": [
        "laptops of Microsoft, Alienwaew, MSI, Apple are costly in comparison to other brands"
      ]
    },
    {
      "cell_type": "code",
      "execution_count": 233,
      "metadata": {
        "id": "InUuncHf1Zjr",
        "colab": {
          "base_uri": "https://localhost:8080/",
          "height": 401
        },
        "outputId": "84f5ac98-6605-42c2-b681-1828b858f1a0"
      },
      "outputs": [
        {
          "output_type": "display_data",
          "data": {
            "text/plain": [
              "<Figure size 576x432 with 1 Axes>"
            ],
            "image/png": "[encoded data removed]"
          },
          "metadata": {}
        }
      ],
      "source": [
        "# Ratings\n",
        "plt.figure(figsize=(8,6))\n",
        "sn.distplot(df.Ratings,color='green')\n",
        "plt.xticks(rotation=\"vertical\")\n",
        "plt.show()"
      ]
    },
    {
      "cell_type": "code",
      "execution_count": 205,
      "metadata": {
        "id": "9-KDnY4u2a9Q",
        "colab": {
          "base_uri": "https://localhost:8080/",
          "height": 348
        },
        "outputId": "65ebd631-197c-4ce4-9fb7-18596bb4d6b2"
      },
      "outputs": [
        {
          "output_type": "stream",
          "name": "stderr",
          "text": [
            "/usr/local/lib/python3.7/dist-packages/seaborn/_decorators.py:43: FutureWarning: Pass the following variables as keyword args: x, y. From version 0.12, the only valid positional argument will be `data`, and passing other arguments without an explicit keyword will result in an error or misinterpretation.\n",
            "  FutureWarning\n"
          ]
        },
        {
          "output_type": "display_data",
          "data": {
            "text/plain": [
              "<Figure size 432x288 with 1 Axes>"
            ],
            "image/png": "[encoded data removed]"
          },
          "metadata": {}
        }
      ],
      "source": [
        "# Ratings and Price relation\n",
        "sn.barplot(df.Ratings,df.Prices)\n",
        "plt.xticks(rotation='vertical')\n",
        "plt.show()"
      ]
    },
    {
      "cell_type": "code",
      "source": [
        "#Ram\n",
        "plt.figure(figsize=(8,6))\n",
        "sn.set_theme(style=\"darkgrid\")\n",
        "ax = sn.countplot(x=\"ram\", data=df)\n",
        "plt.xticks(rotation=\"vertical\")\n",
        "plt.show()"
      ],
      "metadata": {
        "colab": {
          "base_uri": "https://localhost:8080/",
          "height": 410
        },
        "id": "bx9oGaX0ZyJr",
        "outputId": "7200230d-eaf0-4df2-b638-25bb13ed97dc"
      },
      "execution_count": 234,
      "outputs": [
        {
          "output_type": "display_data",
          "data": {
            "text/plain": [
              "<Figure size 576x432 with 1 Axes>"
            ],
            "image/png": "[encoded data removed]"
          },
          "metadata": {}
        }
      ]
    },
    {
      "cell_type": "code",
      "source": [
        "#Price and Ram relationship\n",
        "plt.figure(figsize=(8,6))\n",
        "sn.barplot(df.ram,df.Prices)\n",
        "plt.xticks(rotation='vertical')\n",
        "plt.show()"
      ],
      "metadata": {
        "colab": {
          "base_uri": "https://localhost:8080/",
          "height": 410
        },
        "id": "an9iHUFMZ2PA",
        "outputId": "63d9c841-9f9c-4181-e639-a7dbbff11c56"
      },
      "execution_count": 235,
      "outputs": [
        {
          "output_type": "display_data",
          "data": {
            "text/plain": [
              "<Figure size 576x432 with 1 Axes>"
            ],
            "image/png": "[encoded data removed]"
          },
          "metadata": {}
        }
      ]
    },
    {
      "cell_type": "code",
      "source": [
        "#processor\n",
        "plt.figure(figsize=(8,6))\n",
        "sn.set_theme(style=\"darkgrid\")\n",
        "ax = sn.countplot(x=\"processor\", data=df)\n",
        "plt.xticks(rotation=\"vertical\")\n",
        "plt.show()"
      ],
      "metadata": {
        "colab": {
          "base_uri": "https://localhost:8080/",
          "height": 473
        },
        "id": "a84Q-e_JahPu",
        "outputId": "a58dca55-b426-42eb-ed22-f4fbaef2479b"
      },
      "execution_count": 236,
      "outputs": [
        {
          "output_type": "display_data",
          "data": {
            "text/plain": [
              "<Figure size 576x432 with 1 Axes>"
            ],
            "image/png": "[encoded data removed]"
          },
          "metadata": {}
        }
      ]
    },
    {
      "cell_type": "code",
      "source": [
        "#Price and Ram relationship\n",
        "plt.figure(figsize=(8,6))\n",
        "sn.barplot(df.processor,df.Prices)\n",
        "plt.xticks(rotation='vertical')\n",
        "plt.show()"
      ],
      "metadata": {
        "colab": {
          "base_uri": "https://localhost:8080/",
          "height": 473
        },
        "id": "8Cs9FLOlbA_K",
        "outputId": "039a65b6-c4a8-497c-d7a1-b1c6fbc7422e"
      },
      "execution_count": 237,
      "outputs": [
        {
          "output_type": "display_data",
          "data": {
            "text/plain": [
              "<Figure size 576x432 with 1 Axes>"
            ],
            "image/png": "[encoded data removed]"
          },
          "metadata": {}
        }
      ]
    }
  ],
  "metadata": {
    "colab": {
      "collapsed_sections": [],
      "name": "Flipkart_scrapping.ipynb",
      "provenance": []
    },
    "kernelspec": {
      "display_name": "Python 3",
      "name": "python3"
    },
    "language_info": {
      "name": "python"
    }
  },
  "nbformat": 4,
  "nbformat_minor": 0
}